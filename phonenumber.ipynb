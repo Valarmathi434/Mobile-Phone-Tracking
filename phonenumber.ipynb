{
  "cells": [
    {
      "cell_type": "markdown",
      "metadata": {
        "id": "view-in-github",
        "colab_type": "text"
      },
      "source": [
        "<a href=\"https://colab.research.google.com/github/Valarmathi434/Mobile-Phone-Tracking/blob/main/phonenumber.ipynb\" target=\"_parent\"><img src=\"https://colab.research.google.com/assets/colab-badge.svg\" alt=\"Open In Colab\"/></a>"
      ]
    },
    {
      "cell_type": "code",
      "execution_count": null,
      "metadata": {
        "colab": {
          "base_uri": "https://localhost:8080/"
        },
        "id": "WyTvFsYsOgGw",
        "outputId": "ea44a2b8-300a-4d15-a8d1-0a80af1528c4"
      },
      "outputs": [
        {
          "output_type": "stream",
          "name": "stdout",
          "text": [
            "Looking in indexes: https://pypi.org/simple, https://us-python.pkg.dev/colab-wheels/public/simple/\n",
            "Collecting phonenumbers\n",
            "  Downloading phonenumbers-8.13.7-py2.py3-none-any.whl (2.6 MB)\n",
            "\u001b[2K     \u001b[90m━━━━━━━━━━━━━━━━━━━━━━━━━━━━━━━━━━━━━━━━\u001b[0m \u001b[32m2.6/2.6 MB\u001b[0m \u001b[31m24.7 MB/s\u001b[0m eta \u001b[36m0:00:00\u001b[0m\n",
            "\u001b[?25hInstalling collected packages: phonenumbers\n",
            "Successfully installed phonenumbers-8.13.7\n"
          ]
        }
      ],
      "source": [
        "pip install phonenumbers"
      ]
    },
    {
      "cell_type": "code",
      "execution_count": null,
      "metadata": {
        "id": "zKN3b8OxPdaM"
      },
      "outputs": [],
      "source": [
        "import phonenumbers"
      ]
    },
    {
      "cell_type": "code",
      "execution_count": null,
      "metadata": {
        "id": "v7o6dymQV_Bc"
      },
      "outputs": [],
      "source": [
        "import folium"
      ]
    },
    {
      "cell_type": "code",
      "execution_count": null,
      "metadata": {
        "colab": {
          "background_save": true,
          "base_uri": "https://localhost:8080/"
        },
        "id": "UyBcBpd_BNa-",
        "outputId": "2b643431-fcc9-4423-9aed-e03352b62bdf"
      },
      "outputs": [
        {
          "name": "stdout",
          "output_type": "stream",
          "text": [
            "To authorize access needed by Earth Engine, open the following URL in a web browser and follow the instructions. If the web browser does not start automatically, please manually browse the URL below.\n",
            "\n",
            "    https://code.earthengine.google.com/client-auth?scopes=https%3A//www.googleapis.com/auth/earthengine%20https%3A//www.googleapis.com/auth/devstorage.full_control&request_id=_IDAcLXH7pLln4fmMVWD9QGmxLYKZWrxcS5n-mcDHXQ&tc=cKotc3oQt90K4oAeCbsmfADhiJFqxpEnTJ7WHnnRIkI&cc=gbeviYbmuTZ5bISZzPrUY_lPLiy5Fzjp22githWZWPc\n",
            "\n",
            "The authorization workflow will generate a code, which you should paste in the box below.\n"
          ]
        }
      ],
      "source": [
        "import ee\n",
        "\n",
        "# Trigger the authentication flow.\n",
        "ee.Authenticate()\n",
        "\n",
        "# Initialize the library.\n",
        "ee.Initialize()"
      ]
    },
    {
      "cell_type": "code",
      "execution_count": null,
      "metadata": {
        "id": "pWBRPHWnPnMQ"
      },
      "outputs": [],
      "source": [
        "from phonenumbers import geocoder"
      ]
    },
    {
      "cell_type": "code",
      "execution_count": null,
      "metadata": {
        "id": "zDPuwU8NSzm6"
      },
      "outputs": [],
      "source": [
        "key ='9a492df49bae4c23907feb4b42535dfd'"
      ]
    },
    {
      "cell_type": "code",
      "execution_count": null,
      "metadata": {
        "id": "mPlXNewKTACp"
      },
      "outputs": [],
      "source": [
        "phone_number1 = phonenumbers.parse(\"+919361880966\")\n"
      ]
    },
    {
      "cell_type": "code",
      "execution_count": null,
      "metadata": {
        "id": "LhQju5BhTKmb"
      },
      "outputs": [],
      "source": [
        "yourLocation =geocoder.description_for_number(phone_number1,'en')\n"
      ]
    },
    {
      "cell_type": "code",
      "execution_count": null,
      "metadata": {
        "id": "kakpL6BaXDWW",
        "colab": {
          "base_uri": "https://localhost:8080/"
        },
        "outputId": "28ece463-cc30-4083-9bc6-d0e3dfb1e0d3"
      },
      "outputs": [
        {
          "output_type": "stream",
          "name": "stdout",
          "text": [
            "India\n"
          ]
        }
      ],
      "source": [
        "print(yourLocation)"
      ]
    },
    {
      "cell_type": "code",
      "execution_count": null,
      "metadata": {
        "id": "Aymd0WL7TYEM"
      },
      "outputs": [],
      "source": [
        "from phonenumbers import carrier\n"
      ]
    },
    {
      "cell_type": "code",
      "execution_count": null,
      "metadata": {
        "id": "5CSh5MpmTkuD"
      },
      "outputs": [],
      "source": [
        "phone_number1 = phonenumbers.parse(\"+919361880966\")\n"
      ]
    },
    {
      "cell_type": "code",
      "execution_count": null,
      "metadata": {
        "id": "BYy4buRlUCkh",
        "colab": {
          "base_uri": "https://localhost:8080/"
        },
        "outputId": "20ad0490-3f29-4a8f-f9dc-1078fe5374aa"
      },
      "outputs": [
        {
          "output_type": "stream",
          "name": "stdout",
          "text": [
            "Reliance Jio\n"
          ]
        }
      ],
      "source": [
        "print(carrier.name_for_number(phone_number1,'en'))"
      ]
    },
    {
      "cell_type": "code",
      "execution_count": null,
      "metadata": {
        "id": "7vIuDAwrR9w8",
        "colab": {
          "base_uri": "https://localhost:8080/"
        },
        "outputId": "ed8b19a7-db67-4479-9a61-861405571271"
      },
      "outputs": [
        {
          "output_type": "stream",
          "name": "stdout",
          "text": [
            "Looking in indexes: https://pypi.org/simple, https://us-python.pkg.dev/colab-wheels/public/simple/\n",
            "Collecting opencage\n",
            "  Downloading opencage-2.1.0-py3-none-any.whl (13 kB)\n",
            "Collecting backoff>=1.10.0\n",
            "  Downloading backoff-2.2.1-py3-none-any.whl (15 kB)\n",
            "Collecting pyopenssl>=0.15.1\n",
            "  Downloading pyOpenSSL-23.0.0-py3-none-any.whl (57 kB)\n",
            "\u001b[2K     \u001b[90m━━━━━━━━━━━━━━━━━━━━━━━━━━━━━━━━━━━━━━━━\u001b[0m \u001b[32m57.3/57.3 KB\u001b[0m \u001b[31m3.1 MB/s\u001b[0m eta \u001b[36m0:00:00\u001b[0m\n",
            "\u001b[?25hRequirement already satisfied: Requests>=2.2.0 in /usr/local/lib/python3.8/dist-packages (from opencage) (2.25.1)\n",
            "Collecting cryptography<40,>=38.0.0\n",
            "  Downloading cryptography-39.0.2-cp36-abi3-manylinux_2_28_x86_64.whl (4.2 MB)\n",
            "\u001b[2K     \u001b[90m━━━━━━━━━━━━━━━━━━━━━━━━━━━━━━━━━━━━━━━━\u001b[0m \u001b[32m4.2/4.2 MB\u001b[0m \u001b[31m41.3 MB/s\u001b[0m eta \u001b[36m0:00:00\u001b[0m\n",
            "\u001b[?25hRequirement already satisfied: idna<3,>=2.5 in /usr/local/lib/python3.8/dist-packages (from Requests>=2.2.0->opencage) (2.10)\n",
            "Requirement already satisfied: urllib3<1.27,>=1.21.1 in /usr/local/lib/python3.8/dist-packages (from Requests>=2.2.0->opencage) (1.26.14)\n",
            "Requirement already satisfied: certifi>=2017.4.17 in /usr/local/lib/python3.8/dist-packages (from Requests>=2.2.0->opencage) (2022.12.7)\n",
            "Requirement already satisfied: chardet<5,>=3.0.2 in /usr/local/lib/python3.8/dist-packages (from Requests>=2.2.0->opencage) (4.0.0)\n",
            "Requirement already satisfied: cffi>=1.12 in /usr/local/lib/python3.8/dist-packages (from cryptography<40,>=38.0.0->pyopenssl>=0.15.1->opencage) (1.15.1)\n",
            "Requirement already satisfied: pycparser in /usr/local/lib/python3.8/dist-packages (from cffi>=1.12->cryptography<40,>=38.0.0->pyopenssl>=0.15.1->opencage) (2.21)\n",
            "Installing collected packages: backoff, cryptography, pyopenssl, opencage\n",
            "Successfully installed backoff-2.2.1 cryptography-39.0.2 opencage-2.1.0 pyopenssl-23.0.0\n"
          ]
        }
      ],
      "source": [
        "pip install opencage"
      ]
    },
    {
      "cell_type": "code",
      "execution_count": null,
      "metadata": {
        "id": "w2jYvM4PUmkr"
      },
      "outputs": [],
      "source": [
        "from opencage.geocoder import OpenCageGeocode"
      ]
    },
    {
      "cell_type": "code",
      "execution_count": null,
      "metadata": {
        "id": "BMGQjkYSUp5V"
      },
      "outputs": [],
      "source": [
        "geocoder = OpenCageGeocode(key)"
      ]
    },
    {
      "cell_type": "code",
      "execution_count": null,
      "metadata": {
        "id": "0casEqvHUzAI"
      },
      "outputs": [],
      "source": [
        "query =str(yourLocation)"
      ]
    },
    {
      "cell_type": "code",
      "execution_count": null,
      "metadata": {
        "id": "Nz9jQoIQU-Xz"
      },
      "outputs": [],
      "source": [
        "results = geocoder.geocode(query)"
      ]
    },
    {
      "cell_type": "code",
      "execution_count": null,
      "metadata": {
        "id": "pidEvLY4VKi7",
        "colab": {
          "base_uri": "https://localhost:8080/"
        },
        "outputId": "b5905b1f-dc2a-42c9-83ce-e985b72539b4"
      },
      "outputs": [
        {
          "output_type": "stream",
          "name": "stdout",
          "text": [
            "[{'annotations': {'DMS': {'lat': \"22° 21' 4.01328'' N\", 'lng': \"78° 40' 3.87408'' E\"}, 'MGRS': '44QKK5981273550', 'Maidenhead': 'ML92ii04dg', 'Mercator': {'x': 8757253.07, 'y': 2537490.922}, 'OSM': {'edit_url': 'https://www.openstreetmap.org/edit?relation=304716#map=17/22.35111/78.66774', 'note_url': 'https://www.openstreetmap.org/note/new#map=17/22.35111/78.66774&layers=N', 'url': 'https://www.openstreetmap.org/?mlat=22.35111&mlon=78.66774#map=17/22.35111/78.66774'}, 'UN_M49': {'regions': {'ASIA': '142', 'IN': '356', 'SOUTHERN_ASIA': '034', 'WORLD': '001'}, 'statistical_groupings': ['LEDC']}, 'callingcode': 91, 'currency': {'alternate_symbols': ['Rs', '৳', '૱', '௹', 'रु', '₨'], 'decimal_mark': '.', 'html_entity': '&#x20b9;', 'iso_code': 'INR', 'iso_numeric': '356', 'name': 'Indian Rupee', 'smallest_denomination': 50, 'subunit': 'Paisa', 'subunit_to_unit': 100, 'symbol': '₹', 'symbol_first': 1, 'thousands_separator': ','}, 'flag': '🇮🇳', 'geohash': 'tezznhuhemb94y00nqrq', 'qibla': 276.07, 'roadinfo': {'drive_on': 'left', 'speed_in': 'km/h'}, 'sun': {'rise': {'apparent': 1677978300, 'astronomical': 1678060260, 'civil': 1677976920, 'nautical': 1677975360}, 'set': {'apparent': 1678020540, 'astronomical': 1678025040, 'civil': 1678021920, 'nautical': 1678023480}}, 'timezone': {'name': 'Asia/Kolkata', 'now_in_dst': 0, 'offset_sec': 19800, 'offset_string': '+0530', 'short_name': 'IST'}, 'what3words': {'words': 'dryness.herbalists.unceasingly'}, 'wikidata': 'Q668'}, 'bounds': {'northeast': {'lat': 35.6745457, 'lng': 97.395561}, 'southwest': {'lat': 6.5531169, 'lng': 67.9544415}}, 'components': {'ISO_3166-1_alpha-2': 'IN', 'ISO_3166-1_alpha-3': 'IND', '_category': 'place', '_type': 'country', 'continent': 'Asia', 'country': 'India', 'country_code': 'in'}, 'confidence': 1, 'formatted': 'India', 'geometry': {'lat': 22.3511148, 'lng': 78.6677428}}, {'annotations': {'DMS': {'lat': \"25° 28' 27.01776'' N\", 'lng': \"81° 50' 58.34292'' E\"}, 'MGRS': '44RNP8539617726', 'Maidenhead': 'NL05wl13wt', 'Mercator': {'x': 9111449.081, 'y': 2915727.225}, 'OSM': {'edit_url': 'https://www.openstreetmap.org/edit?node=6276061706#map=17/25.47417/81.84954', 'note_url': 'https://www.openstreetmap.org/note/new#map=17/25.47417/81.84954&layers=N', 'url': 'https://www.openstreetmap.org/?mlat=25.47417&mlon=81.84954#map=17/25.47417/81.84954'}, 'UN_M49': {'regions': {'ASIA': '142', 'IN': '356', 'SOUTHERN_ASIA': '034', 'WORLD': '001'}, 'statistical_groupings': ['LEDC']}, 'callingcode': 91, 'currency': {'alternate_symbols': ['Rs', '৳', '૱', '௹', 'रु', '₨'], 'decimal_mark': '.', 'html_entity': '&#x20b9;', 'iso_code': 'INR', 'iso_numeric': '356', 'name': 'Indian Rupee', 'smallest_denomination': 50, 'subunit': 'Paisa', 'subunit_to_unit': 100, 'symbol': '₹', 'symbol_first': 1, 'thousands_separator': ','}, 'flag': '🇮🇳', 'geohash': 'tud0yt3jb9b2dj0epeu0', 'qibla': 272.97, 'roadinfo': {'drive_on': 'left', 'speed_in': 'km/h'}, 'sun': {'rise': {'apparent': 1677977640, 'astronomical': 1678059480, 'civil': 1677976260, 'nautical': 1677974640}, 'set': {'apparent': 1678019700, 'astronomical': 1678024260, 'civil': 1678021080, 'nautical': 1678022700}}, 'timezone': {'name': 'Asia/Kolkata', 'now_in_dst': 0, 'offset_sec': 19800, 'offset_string': '+0530', 'short_name': 'IST'}, 'what3words': {'words': 'toolbar.inflamed.thrusters'}, 'wikidata': 'Q7753141'}, 'bounds': {'northeast': {'lat': 25.4742216, 'lng': 81.8495897}, 'southwest': {'lat': 25.4741216, 'lng': 81.8494897}}, 'components': {'ISO_3166-1_alpha-2': 'IN', 'ISO_3166-1_alpha-3': 'IND', 'ISO_3166-2': ['IN-UP'], '_category': 'natural/water', '_type': 'wetland', 'city': 'Prayagraj', 'continent': 'Asia', 'country': 'India', 'country_code': 'in', 'county': 'Prayagraj', 'postcode': '211001', 'state': 'Uttar Pradesh', 'state_code': 'UP', 'state_district': 'Prayagraj', 'suburb': 'Mumfordganj', 'wetland': 'National Academy of Sciences, India'}, 'confidence': 9, 'formatted': 'National Academy of Sciences, India, Mumfordganj, Prayagraj - 211001, Uttar Pradesh, India', 'geometry': {'lat': 25.4741716, 'lng': 81.8495397}}, {'annotations': {'DMS': {'lat': \"2° 10' 59.99880'' N\", 'lng': \"33° 40' 59.99880'' E\"}, 'MGRS': '36NWH7598441342', 'Maidenhead': 'KJ62ue24aa', 'Mercator': {'x': 3749611.478, 'y': 241479.696}, 'OSM': {'edit_url': 'https://www.openstreetmap.org/edit?node=2229108461#map=17/2.18333/33.68333', 'note_url': 'https://www.openstreetmap.org/note/new#map=17/2.18333/33.68333&layers=N', 'url': 'https://www.openstreetmap.org/?mlat=2.18333&mlon=33.68333#map=17/2.18333/33.68333'}, 'UN_M49': {'regions': {'AFRICA': '002', 'EASTERN_AFRICA': '014', 'SUB-SAHARAN_AFRICA': '202', 'UG': '800', 'WORLD': '001'}, 'statistical_groupings': ['LDC', 'LEDC', 'LLDC']}, 'callingcode': 256, 'currency': {'alternate_symbols': [], 'decimal_mark': '.', 'format': '%n %u', 'html_entity': '', 'iso_code': 'UGX', 'iso_numeric': '800', 'name': 'Ugandan Shilling', 'smallest_denomination': 1000, 'subunit': 'Cent', 'subunit_to_unit': 1, 'symbol': 'USh', 'symbol_first': 0, 'thousands_separator': ','}, 'flag': '🇺🇬', 'geohash': 's8ruqmrqydc2xkvqk0rg', 'qibla': 16.81, 'roadinfo': {'drive_on': 'left', 'speed_in': 'km/h'}, 'sun': {'rise': {'apparent': 1677988500, 'astronomical': 1677984420, 'civil': 1677987300, 'nautical': 1677985860}, 'set': {'apparent': 1678031880, 'astronomical': 1678036020, 'civil': 1678033140, 'nautical': 1678034580}}, 'timezone': {'name': 'Africa/Nairobi', 'now_in_dst': 0, 'offset_sec': 10800, 'offset_string': '+0300', 'short_name': 'EAT'}, 'what3words': {'words': 'clockwork.glitches.jubilantly'}}, 'bounds': {'northeast': {'lat': 2.203333, 'lng': 33.703333}, 'southwest': {'lat': 2.163333, 'lng': 33.663333}}, 'components': {'ISO_3166-1_alpha-2': 'UG', 'ISO_3166-1_alpha-3': 'UGA', 'ISO_3166-2': ['UG-E', 'UG-236'], '_category': 'place', '_type': 'village', 'continent': 'Africa', 'country': 'Uganda', 'country_code': 'ug', 'region': 'Eastern Region', 'state': 'Kapelebyong', 'village': 'India'}, 'confidence': 7, 'formatted': 'India, Kapelebyong, Uganda', 'geometry': {'lat': 2.183333, 'lng': 33.683333}}, {'annotations': {'DMS': {'lat': \"28° 24' 34.93584'' N\", 'lng': \"77° 24' 12.06648'' E\"}, 'MGRS': '43RGM3544144939', 'Maidenhead': 'ML88qj88jh', 'Mercator': {'x': 8616501.705, 'y': 3280402.352}, 'OSM': {'edit_url': 'https://www.openstreetmap.org/edit?way=210057206#map=17/28.40970/77.40335', 'note_url': 'https://www.openstreetmap.org/note/new#map=17/28.40970/77.40335&layers=N', 'url': 'https://www.openstreetmap.org/?mlat=28.40970&mlon=77.40335#map=17/28.40970/77.40335'}, 'UN_M49': {'regions': {'ASIA': '142', 'IN': '356', 'SOUTHERN_ASIA': '034', 'WORLD': '001'}, 'statistical_groupings': ['LEDC']}, 'callingcode': 91, 'currency': {'alternate_symbols': ['Rs', '৳', '૱', '௹', 'रु', '₨'], 'decimal_mark': '.', 'html_entity': '&#x20b9;', 'iso_code': 'INR', 'iso_numeric': '356', 'name': 'Indian Rupee', 'smallest_denomination': 50, 'subunit': 'Paisa', 'subunit_to_unit': 100, 'symbol': '₹', 'symbol_first': 1, 'thousands_separator': ','}, 'flag': '🇮🇳', 'geohash': 'ttp197g6sbdrcsv20yzj', 'qibla': 267, 'roadinfo': {'drive_on': 'left', 'road': 'maxar', 'speed_in': 'km/h'}, 'sun': {'rise': {'apparent': 1677978780, 'astronomical': 1678060500, 'civil': 1677977340, 'nautical': 1677975720}, 'set': {'apparent': 1678020720, 'astronomical': 1678025400, 'civil': 1678022100, 'nautical': 1678023720}}, 'timezone': {'name': 'Asia/Kolkata', 'now_in_dst': 0, 'offset_sec': 19800, 'offset_string': '+0530', 'short_name': 'IST'}, 'what3words': {'words': 'feels.drops.remaining'}, 'wikidata': 'Q6553790'}, 'bounds': {'northeast': {'lat': 28.4115262, 'lng': 77.4070174}, 'southwest': {'lat': 28.4079921, 'lng': 77.4020934}}, 'components': {'ISO_3166-1_alpha-2': 'IN', 'ISO_3166-1_alpha-3': 'IND', 'ISO_3166-2': ['IN-HR'], '_category': 'education', '_type': 'university', 'city': 'Faridabad', 'continent': 'Asia', 'country': 'India', 'country_code': 'in', 'county': 'Faridabad', 'house_number': 'Nachauli', 'postcode': '121002', 'road': 'maxar', 'state': 'Haryana', 'state_code': 'HR', 'state_district': 'Faridabad', 'university': \"Lingaya's University, Faridabad\"}, 'confidence': 9, 'formatted': \"Lingaya's University, Faridabad, Nachauli, maxar, Faridabad, Faridabad - 121002, Haryana, India\", 'geometry': {'lat': 28.4097044, 'lng': 77.4033518}}, {'annotations': {'DMS': {'lat': \"50° 50' 56.09040'' N\", 'lng': \"2° 57' 2.11752'' E\"}, 'MGRS': '31UDS9652133024', 'Maidenhead': 'JO10lu43br', 'Mercator': {'x': 328457.976, 'y': 6561455.853}, 'NUTS': {'NUTS0': {'code': 'BE'}, 'NUTS1': {'code': 'BE2'}, 'NUTS2': {'code': 'BE25'}, 'NUTS3': {'code': 'BE253'}}, 'OSM': {'edit_url': 'https://www.openstreetmap.org/edit?node=10115590166#map=17/50.84891/2.95059', 'note_url': 'https://www.openstreetmap.org/note/new#map=17/50.84891/2.95059&layers=N', 'url': 'https://www.openstreetmap.org/?mlat=50.84891&mlon=2.95059#map=17/50.84891/2.95059'}, 'UN_M49': {'regions': {'BE': '056', 'EUROPE': '150', 'WESTERN_EUROPE': '155', 'WORLD': '001'}, 'statistical_groupings': ['MEDC']}, 'callingcode': 32, 'currency': {'alternate_symbols': [], 'decimal_mark': ',', 'html_entity': '€', 'iso_code': 'EUR', 'iso_numeric': '978', 'name': 'Euro', 'smallest_denomination': 1, 'subunit': 'Cent', 'subunit_to_unit': 100, 'symbol': '€', 'symbol_first': 0, 'thousands_separator': '.'}, 'flag': '🇧🇪', 'geohash': 'u14170u83sw50c1qt61e', 'qibla': 121.84, 'roadinfo': {'drive_on': 'right', 'speed_in': 'km/h'}, 'sun': {'rise': {'apparent': 1677997560, 'astronomical': 1677991020, 'civil': 1677995580, 'nautical': 1677993300}, 'set': {'apparent': 1678037700, 'astronomical': 1678044240, 'civil': 1678039620, 'nautical': 1678041900}}, 'timezone': {'name': 'Europe/Brussels', 'now_in_dst': 0, 'offset_sec': 3600, 'offset_string': '+0100', 'short_name': 'CET'}, 'what3words': {'words': 'scorch.snorers.obediently'}}, 'bounds': {'northeast': {'lat': 50.858914, 'lng': 2.9605882}, 'southwest': {'lat': 50.838914, 'lng': 2.9405882}}, 'components': {'ISO_3166-1_alpha-2': 'BE', 'ISO_3166-1_alpha-3': 'BEL', 'ISO_3166-2': ['BE-VLG', 'BE-VWV'], '_category': 'place', '_type': 'village', 'continent': 'Europe', 'country': 'Belgium', 'country_code': 'be', 'county': 'Ieper', 'political_union': 'European Union', 'postcode': '8902', 'quarter': 'India', 'region': 'Flanders', 'state': 'West Flanders', 'state_code': 'VWV', 'town': 'Ypres', 'village': 'Zillebeke'}, 'confidence': 8, 'formatted': '8902 Ypres, Belgium', 'geometry': {'lat': 50.848914, 'lng': 2.9505882}}, {'annotations': {'DMS': {'lat': \"32° 31' 30.49500'' N\", 'lng': \"96° 36' 57.96972'' W\"}, 'FIPS': {'county': '48139', 'state': '48'}, 'MGRS': '14SQB2390601151', 'Maidenhead': 'EM12qm66ba', 'Mercator': {'x': -10755255.355, 'y': 3809470.141}, 'OSM': {'edit_url': 'https://www.openstreetmap.org/edit?node=151786687#map=17/32.52514/-96.61610', 'note_url': 'https://www.openstreetmap.org/note/new#map=17/32.52514/-96.61610&layers=N', 'url': 'https://www.openstreetmap.org/?mlat=32.52514&mlon=-96.61610#map=17/32.52514/-96.61610'}, 'UN_M49': {'regions': {'AMERICAS': '019', 'NORTHERN_AMERICA': '021', 'US': '840', 'WORLD': '001'}, 'statistical_groupings': ['MEDC']}, 'callingcode': 1, 'currency': {'alternate_symbols': ['US$'], 'decimal_mark': '.', 'disambiguate_symbol': 'US$', 'html_entity': '$', 'iso_code': 'USD', 'iso_numeric': '840', 'name': 'United States Dollar', 'smallest_denomination': 1, 'subunit': 'Cent', 'subunit_to_unit': 100, 'symbol': '$', 'symbol_first': 1, 'thousands_separator': ','}, 'flag': '🇺🇸', 'geohash': '9vg313n29th686ttgm48', 'qibla': 43.73, 'roadinfo': {'drive_on': 'right', 'speed_in': 'mph'}, 'sun': {'rise': {'apparent': 1678020600, 'astronomical': 1678015740, 'civil': 1678019160, 'nautical': 1678017420}, 'set': {'apparent': 1677975960, 'astronomical': 1677980880, 'civil': 1677977460, 'nautical': 1677979140}}, 'timezone': {'name': 'America/Chicago', 'now_in_dst': 0, 'offset_sec': -21600, 'offset_string': '-0600', 'short_name': 'CST'}, 'what3words': {'words': 'eliminates.hustle.mobiles'}}, 'bounds': {'northeast': {'lat': 32.5451375, 'lng': -96.5961027}, 'southwest': {'lat': 32.5051375, 'lng': -96.6361027}}, 'components': {'ISO_3166-1_alpha-2': 'US', 'ISO_3166-1_alpha-3': 'USA', 'ISO_3166-2': ['US-TX'], '_category': 'place', '_type': 'hamlet', 'continent': 'North America', 'country': 'United States', 'country_code': 'us', 'county': 'Ellis County', 'hamlet': 'India', 'postcode': '76125', 'state': 'Texas', 'state_code': 'TX'}, 'confidence': 7, 'formatted': 'India, Ellis County, TX 76125, United States of America', 'geometry': {'lat': 32.5251375, 'lng': -96.6161027}}, {'annotations': {'DMS': {'lat': \"40° 22' 35.25564'' N\", 'lng': \"79° 7' 10.11252'' W\"}, 'FIPS': {'county': '42063', 'state': '42'}, 'MGRS': '17TPE5964071239', 'Maidenhead': 'FN00kj50pi', 'Mercator': {'x': -8807539.747, 'y': 4893114.369}, 'OSM': {'edit_url': 'https://www.openstreetmap.org/edit?node=158339155#map=17/40.37646/-79.11948', 'note_url': 'https://www.openstreetmap.org/note/new#map=17/40.37646/-79.11948&layers=N', 'url': 'https://www.openstreetmap.org/?mlat=40.37646&mlon=-79.11948#map=17/40.37646/-79.11948'}, 'UN_M49': {'regions': {'AMERICAS': '019', 'NORTHERN_AMERICA': '021', 'US': '840', 'WORLD': '001'}, 'statistical_groupings': ['MEDC']}, 'callingcode': 1, 'currency': {'alternate_symbols': ['US$'], 'decimal_mark': '.', 'disambiguate_symbol': 'US$', 'html_entity': '$', 'iso_code': 'USD', 'iso_numeric': '840', 'name': 'United States Dollar', 'smallest_denomination': 1, 'subunit': 'Cent', 'subunit_to_unit': 100, 'symbol': '$', 'symbol_first': 1, 'thousands_separator': ','}, 'flag': '🇺🇸', 'geohash': 'dpptxw6cytduyruy0xkg', 'qibla': 55.01, 'roadinfo': {'drive_on': 'right', 'speed_in': 'mph'}, 'sun': {'rise': {'apparent': 1678016700, 'astronomical': 1678011300, 'civil': 1678015080, 'nautical': 1678013160}, 'set': {'apparent': 1678057920, 'astronomical': 1677976920, 'civil': 1678059540, 'nautical': 1677975000}}, 'timezone': {'name': 'America/New_York', 'now_in_dst': 0, 'offset_sec': -18000, 'offset_string': '-0500', 'short_name': 'EST'}, 'what3words': {'words': 'densely.author.decays'}}, 'bounds': {'northeast': {'lat': 40.3964599, 'lng': -79.0994757}, 'southwest': {'lat': 40.3564599, 'lng': -79.1394757}}, 'components': {'ISO_3166-1_alpha-2': 'US', 'ISO_3166-1_alpha-3': 'USA', 'ISO_3166-2': ['US-PA'], '_category': 'place', '_type': 'hamlet', 'city': 'West Wheatfield Township', 'continent': 'North America', 'country': 'United States', 'country_code': 'us', 'county': 'Indiana County', 'hamlet': 'India', 'postcode': '15949', 'state': 'Pennsylvania', 'state_code': 'PA'}, 'confidence': 7, 'formatted': 'India, West Wheatfield Township, PA 15949, United States of America', 'geometry': {'lat': 40.3764599, 'lng': -79.1194757}}, {'annotations': {'DMS': {'lat': \"36° 19' 57.20448'' N\", 'lng': \"88° 15' 29.14884'' W\"}, 'FIPS': {'county': '47079', 'state': '47'}, 'MGRS': '16SCF8708521569', 'Maidenhead': 'EM56uh99at', 'Mercator': {'x': -9824846.405, 'y': 4321160.712}, 'OSM': {'edit_url': 'https://www.openstreetmap.org/edit?node=153390321#map=17/36.33256/-88.25810', 'note_url': 'https://www.openstreetmap.org/note/new#map=17/36.33256/-88.25810&layers=N', 'url': 'https://www.openstreetmap.org/?mlat=36.33256&mlon=-88.25810#map=17/36.33256/-88.25810'}, 'UN_M49': {'regions': {'AMERICAS': '019', 'NORTHERN_AMERICA': '021', 'US': '840', 'WORLD': '001'}, 'statistical_groupings': ['MEDC']}, 'callingcode': 1, 'currency': {'alternate_symbols': ['US$'], 'decimal_mark': '.', 'disambiguate_symbol': 'US$', 'html_entity': '$', 'iso_code': 'USD', 'iso_numeric': '840', 'name': 'United States Dollar', 'smallest_denomination': 1, 'subunit': 'Cent', 'subunit_to_unit': 100, 'symbol': '$', 'symbol_first': 1, 'thousands_separator': ','}, 'flag': '🇺🇸', 'geohash': 'dn3nxwhkmr3p6um8xgbj', 'qibla': 49.11, 'roadinfo': {'drive_on': 'right', 'speed_in': 'mph'}, 'sun': {'rise': {'apparent': 1678018740, 'astronomical': 1678013640, 'civil': 1678017180, 'nautical': 1678015380}, 'set': {'apparent': 1678060260, 'astronomical': 1677978960, 'civil': 1677975360, 'nautical': 1677977160}}, 'timezone': {'name': 'America/Chicago', 'now_in_dst': 0, 'offset_sec': -21600, 'offset_string': '-0600', 'short_name': 'CST'}, 'what3words': {'words': 'young.rebuilding.concurred'}}, 'bounds': {'northeast': {'lat': 36.3525568, 'lng': -88.2380969}, 'southwest': {'lat': 36.3125568, 'lng': -88.2780969}}, 'components': {'ISO_3166-1_alpha-2': 'US', 'ISO_3166-1_alpha-3': 'USA', 'ISO_3166-2': ['US-TN'], '_category': 'place', '_type': 'hamlet', 'continent': 'North America', 'country': 'United States', 'country_code': 'us', 'county': 'Henry County', 'hamlet': 'India', 'postcode': '38223', 'region': 'West Tennessee', 'state': 'Tennessee', 'state_code': 'TN'}, 'confidence': 7, 'formatted': 'India, Henry County, TN 38223, United States of America', 'geometry': {'lat': 36.3325568, 'lng': -88.2580969}}, {'annotations': {'DMS': {'lat': \"30° 49' 1.68168'' N\", 'lng': \"89° 6' 40.17420'' W\"}, 'FIPS': {'county': '28131', 'state': '28'}, 'MGRS': '16RBV9805011242', 'Maidenhead': 'EM50kt66pc', 'Mercator': {'x': -9919808.9, 'y': 3587136.359}, 'OSM': {'edit_url': 'https://www.openstreetmap.org/edit?node=153472877#map=17/30.81713/-89.11116', 'note_url': 'https://www.openstreetmap.org/note/new#map=17/30.81713/-89.11116&layers=N', 'url': 'https://www.openstreetmap.org/?mlat=30.81713&mlon=-89.11116#map=17/30.81713/-89.11116'}, 'UN_M49': {'regions': {'AMERICAS': '019', 'NORTHERN_AMERICA': '021', 'US': '840', 'WORLD': '001'}, 'statistical_groupings': ['MEDC']}, 'callingcode': 1, 'currency': {'alternate_symbols': ['US$'], 'decimal_mark': '.', 'disambiguate_symbol': 'US$', 'html_entity': '$', 'iso_code': 'USD', 'iso_numeric': '840', 'name': 'United States Dollar', 'smallest_denomination': 1, 'subunit': 'Cent', 'subunit_to_unit': 100, 'symbol': '$', 'symbol_first': 1, 'thousands_separator': ','}, 'flag': '🇺🇸', 'geohash': 'dj2xk4p4z6pe8ky0bdkn', 'qibla': 49.73, 'roadinfo': {'drive_on': 'right', 'speed_in': 'mph'}, 'sun': {'rise': {'apparent': 1678018740, 'astronomical': 1678013940, 'civil': 1678017300, 'nautical': 1678015620}, 'set': {'apparent': 1678060620, 'astronomical': 1677979020, 'civil': 1677975660, 'nautical': 1677977340}}, 'timezone': {'name': 'America/Chicago', 'now_in_dst': 0, 'offset_sec': -21600, 'offset_string': '-0600', 'short_name': 'CST'}, 'what3words': {'words': 'cupboards.impolite.gorged'}}, 'bounds': {'northeast': {'lat': 30.8371338, 'lng': -89.0911595}, 'southwest': {'lat': 30.7971338, 'lng': -89.1311595}}, 'components': {'ISO_3166-1_alpha-2': 'US', 'ISO_3166-1_alpha-3': 'USA', 'ISO_3166-2': ['US-MS'], '_category': 'place', '_type': 'hamlet', 'continent': 'North America', 'country': 'United States', 'country_code': 'us', 'county': 'Stone County', 'hamlet': 'India', 'state': 'Mississippi', 'state_code': 'MS'}, 'confidence': 7, 'formatted': 'India, Stone County, Mississippi, United States of America', 'geometry': {'lat': 30.8171338, 'lng': -89.1111595}}, {'annotations': {'DMS': {'lat': \"25° 13' 52.03236'' N\", 'lng': \"55° 10' 46.79688'' E\"}, 'MGRS': '40RCN1663591781', 'Maidenhead': 'LL75of15nl', 'Mercator': {'x': 6142572.297, 'y': 2885951.173}, 'OSM': {'edit_url': 'https://www.openstreetmap.org/edit?way=170773643#map=17/25.23112/55.17967', 'note_url': 'https://www.openstreetmap.org/note/new#map=17/25.23112/55.17967&layers=N', 'url': 'https://www.openstreetmap.org/?mlat=25.23112&mlon=55.17967#map=17/25.23112/55.17967'}, 'UN_M49': {'regions': {'AE': '784', 'ASIA': '142', 'WESTERN_ASIA': '145', 'WORLD': '001'}, 'statistical_groupings': ['LEDC']}, 'callingcode': 971, 'currency': {'alternate_symbols': ['DH', 'Dhs'], 'decimal_mark': '.', 'format': '%n %u', 'html_entity': '', 'iso_code': 'AED', 'iso_numeric': '784', 'name': 'United Arab Emirates Dirham', 'smallest_denomination': 25, 'subunit': 'Fils', 'subunit_to_unit': 100, 'symbol': 'د.إ', 'symbol_first': 0, 'thousands_separator': ','}, 'flag': '🇦🇪', 'geohash': 'thrpx9htgmsvwy199nxe', 'qibla': 258.03, 'roadinfo': {'drive_on': 'right', 'speed_in': 'km/h'}, 'sun': {'rise': {'apparent': 1677984000, 'astronomical': 1677979440, 'civil': 1677982620, 'nautical': 1677981060}, 'set': {'apparent': 1678026120, 'astronomical': 1678030680, 'civil': 1678027500, 'nautical': 1678029060}}, 'timezone': {'name': 'Asia/Dubai', 'now_in_dst': 0, 'offset_sec': 14400, 'offset_string': '+0400', 'short_name': '+04'}, 'what3words': {'words': 'december.elms.stepladder'}}, 'bounds': {'northeast': {'lat': 25.2321518, 'lng': 55.1804578}, 'southwest': {'lat': 25.2301128, 'lng': 55.1787512}}, 'components': {'ISO_3166-1_alpha-2': 'AE', 'ISO_3166-1_alpha-3': 'ARE', 'ISO_3166-2': ['AE-DU'], '_category': 'road', '_type': 'road', 'continent': 'Asia', 'country': 'United Arab Emirates', 'country_code': 'ae', 'place': 'India', 'state': 'Dubai', 'state_code': 'DU'}, 'confidence': 9, 'formatted': 'India, Dubai, United Arab Emirates', 'geometry': {'lat': 25.2311201, 'lng': 55.1796658}}]\n"
          ]
        }
      ],
      "source": [
        "print(results)"
      ]
    },
    {
      "cell_type": "code",
      "execution_count": null,
      "metadata": {
        "id": "4CdXu-zHVWpM"
      },
      "outputs": [],
      "source": [
        "lat =results[0]['geometry']['lat']"
      ]
    },
    {
      "cell_type": "code",
      "execution_count": null,
      "metadata": {
        "id": "nm6f1f58Vhdx"
      },
      "outputs": [],
      "source": [
        "lng =results[0]['geometry']['lng']"
      ]
    },
    {
      "cell_type": "code",
      "execution_count": null,
      "metadata": {
        "id": "5aTGrRVRVtq7",
        "colab": {
          "base_uri": "https://localhost:8080/"
        },
        "outputId": "8342d071-22a2-424a-b6a6-beb183b2021e"
      },
      "outputs": [
        {
          "output_type": "stream",
          "name": "stdout",
          "text": [
            "22.3511148 78.6677428\n"
          ]
        }
      ],
      "source": [
        "print(lat,lng)"
      ]
    },
    {
      "cell_type": "code",
      "execution_count": null,
      "metadata": {
        "id": "63ht9O1oXhxy",
        "colab": {
          "base_uri": "https://localhost:8080/"
        },
        "outputId": "cdab6421-bfec-4004-b412-3f6bb3a201bc"
      },
      "outputs": [
        {
          "output_type": "stream",
          "name": "stdout",
          "text": [
            "Looking in indexes: https://pypi.org/simple, https://us-python.pkg.dev/colab-wheels/public/simple/\n",
            "Collecting geemap\n",
            "  Downloading geemap-0.20.0-py2.py3-none-any.whl (2.1 MB)\n",
            "\u001b[2K     \u001b[90m━━━━━━━━━━━━━━━━━━━━━━━━━━━━━━━━━━━━━━━━\u001b[0m \u001b[32m2.1/2.1 MB\u001b[0m \u001b[31m22.5 MB/s\u001b[0m eta \u001b[36m0:00:00\u001b[0m\n",
            "\u001b[?25hCollecting pycrs\n",
            "  Downloading PyCRS-1.0.2.tar.gz (36 kB)\n",
            "  Preparing metadata (setup.py) ... \u001b[?25l\u001b[?25hdone\n",
            "Requirement already satisfied: numpy in /usr/local/lib/python3.8/dist-packages (from geemap) (1.22.4)\n",
            "Collecting ipytree\n",
            "  Downloading ipytree-0.2.2-py2.py3-none-any.whl (1.3 MB)\n",
            "\u001b[2K     \u001b[90m━━━━━━━━━━━━━━━━━━━━━━━━━━━━━━━━━━━━━━━━\u001b[0m \u001b[32m1.3/1.3 MB\u001b[0m \u001b[31m62.9 MB/s\u001b[0m eta \u001b[36m0:00:00\u001b[0m\n",
            "\u001b[?25hCollecting geeadd>=0.5.1\n",
            "  Downloading geeadd-0.5.6-py3-none-any.whl (30 kB)\n",
            "Collecting xyzservices\n",
            "  Downloading xyzservices-2023.2.0-py3-none-any.whl (55 kB)\n",
            "\u001b[2K     \u001b[90m━━━━━━━━━━━━━━━━━━━━━━━━━━━━━━━━━━━━━━━━\u001b[0m \u001b[32m55.4/55.4 KB\u001b[0m \u001b[31m6.4 MB/s\u001b[0m eta \u001b[36m0:00:00\u001b[0m\n",
            "\u001b[?25hRequirement already satisfied: ipywidgets<8.0.0 in /usr/local/lib/python3.8/dist-packages (from geemap) (7.7.1)\n",
            "Collecting python-box\n",
            "  Downloading python_box-7.0.1-cp38-cp38-manylinux_2_5_x86_64.manylinux1_x86_64.manylinux_2_12_x86_64.manylinux2010_x86_64.whl (3.6 MB)\n",
            "\u001b[2K     \u001b[90m━━━━━━━━━━━━━━━━━━━━━━━━━━━━━━━━━━━━━━━━\u001b[0m \u001b[32m3.6/3.6 MB\u001b[0m \u001b[31m43.9 MB/s\u001b[0m eta \u001b[36m0:00:00\u001b[0m\n",
            "\u001b[?25hCollecting whiteboxgui>=0.6.0\n",
            "  Downloading whiteboxgui-2.2.0-py2.py3-none-any.whl (99 kB)\n",
            "\u001b[2K     \u001b[90m━━━━━━━━━━━━━━━━━━━━━━━━━━━━━━━━━━━━━━━━\u001b[0m \u001b[32m99.6/99.6 KB\u001b[0m \u001b[31m11.4 MB/s\u001b[0m eta \u001b[36m0:00:00\u001b[0m\n",
            "\u001b[?25hCollecting ipyevents\n",
            "  Downloading ipyevents-2.0.1-py2.py3-none-any.whl (130 kB)\n",
            "\u001b[2K     \u001b[90m━━━━━━━━━━━━━━━━━━━━━━━━━━━━━━━━━━━━━━\u001b[0m \u001b[32m130.5/130.5 KB\u001b[0m \u001b[31m13.6 MB/s\u001b[0m eta \u001b[36m0:00:00\u001b[0m\n",
            "\u001b[?25hRequirement already satisfied: pillow in /usr/local/lib/python3.8/dist-packages (from geemap) (8.4.0)\n",
            "Collecting ipyleaflet>=0.17.0\n",
            "  Downloading ipyleaflet-0.17.2-py3-none-any.whl (3.7 MB)\n",
            "\u001b[2K     \u001b[90m━━━━━━━━━━━━━━━━━━━━━━━━━━━━━━━━━━━━━━━━\u001b[0m \u001b[32m3.7/3.7 MB\u001b[0m \u001b[31m67.0 MB/s\u001b[0m eta \u001b[36m0:00:00\u001b[0m\n",
            "\u001b[?25hRequirement already satisfied: pandas in /usr/local/lib/python3.8/dist-packages (from geemap) (1.3.5)\n",
            "Collecting geocoder\n",
            "  Downloading geocoder-1.38.1-py2.py3-none-any.whl (98 kB)\n",
            "\u001b[2K     \u001b[90m━━━━━━━━━━━━━━━━━━━━━━━━━━━━━━━━━━━━━━━━\u001b[0m \u001b[32m98.6/98.6 KB\u001b[0m \u001b[31m10.5 MB/s\u001b[0m eta \u001b[36m0:00:00\u001b[0m\n",
            "\u001b[?25hCollecting bqplot\n",
            "  Downloading bqplot-0.12.36-py2.py3-none-any.whl (1.2 MB)\n",
            "\u001b[2K     \u001b[90m━━━━━━━━━━━━━━━━━━━━━━━━━━━━━━━━━━━━━━━━\u001b[0m \u001b[32m1.2/1.2 MB\u001b[0m \u001b[31m71.3 MB/s\u001b[0m eta \u001b[36m0:00:00\u001b[0m\n",
            "\u001b[?25hCollecting sankee>=0.1.0\n",
            "  Downloading sankee-0.2.1.tar.gz (29 kB)\n",
            "  Preparing metadata (setup.py) ... \u001b[?25l\u001b[?25hdone\n",
            "Requirement already satisfied: earthengine-api>=0.1.304 in /usr/local/lib/python3.8/dist-packages (from geemap) (0.1.342)\n",
            "Collecting eerepr>=0.0.4\n",
            "  Downloading eerepr-0.0.4-py3-none-any.whl (9.7 kB)\n",
            "Collecting ipyfilechooser>=0.6.0\n",
            "  Downloading ipyfilechooser-0.6.0-py3-none-any.whl (11 kB)\n",
            "Collecting ffmpeg-python\n",
            "  Downloading ffmpeg_python-0.2.0-py3-none-any.whl (25 kB)\n",
            "Collecting pyshp>=2.1.3\n",
            "  Downloading pyshp-2.3.1-py2.py3-none-any.whl (46 kB)\n",
            "\u001b[2K     \u001b[90m━━━━━━━━━━━━━━━━━━━━━━━━━━━━━━━━━━━━━━━━\u001b[0m \u001b[32m46.5/46.5 KB\u001b[0m \u001b[31m5.5 MB/s\u001b[0m eta \u001b[36m0:00:00\u001b[0m\n",
            "\u001b[?25hRequirement already satisfied: gdown in /usr/local/lib/python3.8/dist-packages (from geemap) (4.4.0)\n",
            "Collecting scooby\n",
            "  Downloading scooby-0.7.1-py3-none-any.whl (16 kB)\n",
            "Collecting geojson\n",
            "  Downloading geojson-3.0.1-py3-none-any.whl (15 kB)\n",
            "Requirement already satisfied: folium>=0.11.0 in /usr/local/lib/python3.8/dist-packages (from geemap) (0.12.1.post1)\n",
            "Collecting colour\n",
            "  Downloading colour-0.1.5-py2.py3-none-any.whl (23 kB)\n",
            "Collecting pyperclip\n",
            "  Downloading pyperclip-1.8.2.tar.gz (20 kB)\n",
            "  Preparing metadata (setup.py) ... \u001b[?25l\u001b[?25hdone\n",
            "Requirement already satisfied: matplotlib in /usr/local/lib/python3.8/dist-packages (from geemap) (3.5.3)\n",
            "Collecting ee-extra>=0.0.10\n",
            "  Downloading ee_extra-0.0.15.tar.gz (224 kB)\n",
            "\u001b[2K     \u001b[90m━━━━━━━━━━━━━━━━━━━━━━━━━━━━━━━━━━━━━━\u001b[0m \u001b[32m224.7/224.7 KB\u001b[0m \u001b[31m23.6 MB/s\u001b[0m eta \u001b[36m0:00:00\u001b[0m\n",
            "\u001b[?25h  Preparing metadata (setup.py) ... \u001b[?25l\u001b[?25hdone\n",
            "Requirement already satisfied: google-auth-httplib2>=0.0.3 in /usr/local/lib/python3.8/dist-packages (from earthengine-api>=0.1.304->geemap) (0.1.0)\n",
            "Requirement already satisfied: requests in /usr/local/lib/python3.8/dist-packages (from earthengine-api>=0.1.304->geemap) (2.25.1)\n",
            "Requirement already satisfied: google-api-python-client>=1.12.1 in /usr/local/lib/python3.8/dist-packages (from earthengine-api>=0.1.304->geemap) (2.70.0)\n",
            "Requirement already satisfied: google-auth>=1.4.1 in /usr/local/lib/python3.8/dist-packages (from earthengine-api>=0.1.304->geemap) (2.16.1)\n",
            "Requirement already satisfied: google-cloud-storage in /usr/local/lib/python3.8/dist-packages (from earthengine-api>=0.1.304->geemap) (2.7.0)\n",
            "Requirement already satisfied: httplib2<1dev,>=0.9.2 in /usr/local/lib/python3.8/dist-packages (from earthengine-api>=0.1.304->geemap) (0.17.4)\n",
            "Requirement already satisfied: jinja2>=2.9 in /usr/local/lib/python3.8/dist-packages (from folium>=0.11.0->geemap) (3.1.2)\n",
            "Requirement already satisfied: branca>=0.3.0 in /usr/local/lib/python3.8/dist-packages (from folium>=0.11.0->geemap) (0.6.0)\n",
            "Collecting logzero>=1.5.0\n",
            "  Downloading logzero-1.7.0-py2.py3-none-any.whl (16 kB)\n",
            "Collecting beautifulsoup4>=4.9.0\n",
            "  Downloading beautifulsoup4-4.11.2-py3-none-any.whl (129 kB)\n",
            "\u001b[2K     \u001b[90m━━━━━━━━━━━━━━━━━━━━━━━━━━━━━━━━━━━━━━\u001b[0m \u001b[32m129.4/129.4 KB\u001b[0m \u001b[31m14.5 MB/s\u001b[0m eta \u001b[36m0:00:00\u001b[0m\n",
            "\u001b[?25hCollecting traittypes<3,>=0.2.1\n",
            "  Downloading traittypes-0.2.1-py2.py3-none-any.whl (8.6 kB)\n",
            "Requirement already satisfied: widgetsnbextension~=3.6.0 in /usr/local/lib/python3.8/dist-packages (from ipywidgets<8.0.0->geemap) (3.6.2)\n",
            "Requirement already satisfied: traitlets>=4.3.1 in /usr/local/lib/python3.8/dist-packages (from ipywidgets<8.0.0->geemap) (5.7.1)\n",
            "Requirement already satisfied: ipykernel>=4.5.1 in /usr/local/lib/python3.8/dist-packages (from ipywidgets<8.0.0->geemap) (5.3.4)\n",
            "Requirement already satisfied: jupyterlab-widgets>=1.0.0 in /usr/local/lib/python3.8/dist-packages (from ipywidgets<8.0.0->geemap) (3.0.5)\n",
            "Requirement already satisfied: ipython-genutils~=0.2.0 in /usr/local/lib/python3.8/dist-packages (from ipywidgets<8.0.0->geemap) (0.2.0)\n",
            "Requirement already satisfied: ipython>=4.0.0 in /usr/local/lib/python3.8/dist-packages (from ipywidgets<8.0.0->geemap) (7.9.0)\n",
            "Requirement already satisfied: plotly>=5.2.2 in /usr/local/lib/python3.8/dist-packages (from sankee>=0.1.0->geemap) (5.5.0)\n",
            "Collecting whitebox\n",
            "  Downloading whitebox-2.2.0-py2.py3-none-any.whl (79 kB)\n",
            "\u001b[2K     \u001b[90m━━━━━━━━━━━━━━━━━━━━━━━━━━━━━━━━━━━━━━━━\u001b[0m \u001b[32m79.9/79.9 KB\u001b[0m \u001b[31m10.2 MB/s\u001b[0m eta \u001b[36m0:00:00\u001b[0m\n",
            "\u001b[?25hRequirement already satisfied: pytz>=2017.3 in /usr/local/lib/python3.8/dist-packages (from pandas->geemap) (2022.7.1)\n",
            "Requirement already satisfied: python-dateutil>=2.7.3 in /usr/local/lib/python3.8/dist-packages (from pandas->geemap) (2.8.2)\n",
            "Requirement already satisfied: future in /usr/local/lib/python3.8/dist-packages (from ffmpeg-python->geemap) (0.16.0)\n",
            "Requirement already satisfied: tqdm in /usr/local/lib/python3.8/dist-packages (from gdown->geemap) (4.64.1)\n",
            "Requirement already satisfied: six in /usr/local/lib/python3.8/dist-packages (from gdown->geemap) (1.15.0)\n",
            "Requirement already satisfied: filelock in /usr/local/lib/python3.8/dist-packages (from gdown->geemap) (3.9.0)\n",
            "Requirement already satisfied: click in /usr/local/lib/python3.8/dist-packages (from geocoder->geemap) (8.1.3)\n",
            "Collecting ratelim\n",
            "  Downloading ratelim-0.1.6-py2.py3-none-any.whl (4.0 kB)\n",
            "Requirement already satisfied: packaging>=20.0 in /usr/local/lib/python3.8/dist-packages (from matplotlib->geemap) (23.0)\n",
            "Requirement already satisfied: kiwisolver>=1.0.1 in /usr/local/lib/python3.8/dist-packages (from matplotlib->geemap) (1.4.4)\n",
            "Requirement already satisfied: fonttools>=4.22.0 in /usr/local/lib/python3.8/dist-packages (from matplotlib->geemap) (4.38.0)\n",
            "Requirement already satisfied: pyparsing>=2.2.1 in /usr/local/lib/python3.8/dist-packages (from matplotlib->geemap) (3.0.9)\n",
            "Requirement already satisfied: cycler>=0.10 in /usr/local/lib/python3.8/dist-packages (from matplotlib->geemap) (0.11.0)\n",
            "Collecting soupsieve>1.2\n",
            "  Downloading soupsieve-2.4-py3-none-any.whl (37 kB)\n",
            "Requirement already satisfied: google-api-core!=2.0.*,!=2.1.*,!=2.2.*,!=2.3.0,<3.0.0dev,>=1.31.5 in /usr/local/lib/python3.8/dist-packages (from google-api-python-client>=1.12.1->earthengine-api>=0.1.304->geemap) (2.11.0)\n",
            "Requirement already satisfied: uritemplate<5,>=3.0.1 in /usr/local/lib/python3.8/dist-packages (from google-api-python-client>=1.12.1->earthengine-api>=0.1.304->geemap) (4.1.1)\n",
            "Requirement already satisfied: rsa<5,>=3.1.4 in /usr/local/lib/python3.8/dist-packages (from google-auth>=1.4.1->earthengine-api>=0.1.304->geemap) (4.9)\n",
            "Requirement already satisfied: cachetools<6.0,>=2.0.0 in /usr/local/lib/python3.8/dist-packages (from google-auth>=1.4.1->earthengine-api>=0.1.304->geemap) (5.3.0)\n",
            "Requirement already satisfied: pyasn1-modules>=0.2.1 in /usr/local/lib/python3.8/dist-packages (from google-auth>=1.4.1->earthengine-api>=0.1.304->geemap) (0.2.8)\n",
            "Requirement already satisfied: jupyter-client in /usr/local/lib/python3.8/dist-packages (from ipykernel>=4.5.1->ipywidgets<8.0.0->geemap) (6.1.12)\n",
            "Requirement already satisfied: tornado>=4.2 in /usr/local/lib/python3.8/dist-packages (from ipykernel>=4.5.1->ipywidgets<8.0.0->geemap) (6.2)\n",
            "Requirement already satisfied: setuptools>=18.5 in /usr/local/lib/python3.8/dist-packages (from ipython>=4.0.0->ipywidgets<8.0.0->geemap) (57.4.0)\n",
            "Requirement already satisfied: backcall in /usr/local/lib/python3.8/dist-packages (from ipython>=4.0.0->ipywidgets<8.0.0->geemap) (0.2.0)\n",
            "Requirement already satisfied: pickleshare in /usr/local/lib/python3.8/dist-packages (from ipython>=4.0.0->ipywidgets<8.0.0->geemap) (0.7.5)\n",
            "Collecting jedi>=0.10\n",
            "  Downloading jedi-0.18.2-py2.py3-none-any.whl (1.6 MB)\n",
            "\u001b[2K     \u001b[90m━━━━━━━━━━━━━━━━━━━━━━━━━━━━━━━━━━━━━━━━\u001b[0m \u001b[32m1.6/1.6 MB\u001b[0m \u001b[31m26.8 MB/s\u001b[0m eta \u001b[36m0:00:00\u001b[0m\n",
            "\u001b[?25hRequirement already satisfied: prompt-toolkit<2.1.0,>=2.0.0 in /usr/local/lib/python3.8/dist-packages (from ipython>=4.0.0->ipywidgets<8.0.0->geemap) (2.0.10)\n",
            "Requirement already satisfied: pexpect in /usr/local/lib/python3.8/dist-packages (from ipython>=4.0.0->ipywidgets<8.0.0->geemap) (4.8.0)\n",
            "Requirement already satisfied: decorator in /usr/local/lib/python3.8/dist-packages (from ipython>=4.0.0->ipywidgets<8.0.0->geemap) (4.4.2)\n",
            "Requirement already satisfied: pygments in /usr/local/lib/python3.8/dist-packages (from ipython>=4.0.0->ipywidgets<8.0.0->geemap) (2.6.1)\n",
            "Requirement already satisfied: MarkupSafe>=2.0 in /usr/local/lib/python3.8/dist-packages (from jinja2>=2.9->folium>=0.11.0->geemap) (2.1.2)\n",
            "Requirement already satisfied: tenacity>=6.2.0 in /usr/local/lib/python3.8/dist-packages (from plotly>=5.2.2->sankee>=0.1.0->geemap) (8.2.2)\n",
            "Requirement already satisfied: idna<3,>=2.5 in /usr/local/lib/python3.8/dist-packages (from requests->earthengine-api>=0.1.304->geemap) (2.10)\n",
            "Requirement already satisfied: chardet<5,>=3.0.2 in /usr/local/lib/python3.8/dist-packages (from requests->earthengine-api>=0.1.304->geemap) (4.0.0)\n",
            "Requirement already satisfied: urllib3<1.27,>=1.21.1 in /usr/local/lib/python3.8/dist-packages (from requests->earthengine-api>=0.1.304->geemap) (1.26.14)\n",
            "Requirement already satisfied: certifi>=2017.4.17 in /usr/local/lib/python3.8/dist-packages (from requests->earthengine-api>=0.1.304->geemap) (2022.12.7)\n",
            "Requirement already satisfied: notebook>=4.4.1 in /usr/local/lib/python3.8/dist-packages (from widgetsnbextension~=3.6.0->ipywidgets<8.0.0->geemap) (6.3.0)\n",
            "Requirement already satisfied: google-resumable-media>=2.3.2 in /usr/local/lib/python3.8/dist-packages (from google-cloud-storage->earthengine-api>=0.1.304->geemap) (2.4.1)\n",
            "Requirement already satisfied: google-cloud-core<3.0dev,>=2.3.0 in /usr/local/lib/python3.8/dist-packages (from google-cloud-storage->earthengine-api>=0.1.304->geemap) (2.3.2)\n",
            "Requirement already satisfied: PySocks!=1.5.7,>=1.5.6 in /usr/local/lib/python3.8/dist-packages (from requests->earthengine-api>=0.1.304->geemap) (1.7.1)\n",
            "Requirement already satisfied: googleapis-common-protos<2.0dev,>=1.56.2 in /usr/local/lib/python3.8/dist-packages (from google-api-core!=2.0.*,!=2.1.*,!=2.2.*,!=2.3.0,<3.0.0dev,>=1.31.5->google-api-python-client>=1.12.1->earthengine-api>=0.1.304->geemap) (1.58.0)\n",
            "Requirement already satisfied: protobuf!=3.20.0,!=3.20.1,!=4.21.0,!=4.21.1,!=4.21.2,!=4.21.3,!=4.21.4,!=4.21.5,<5.0.0dev,>=3.19.5 in /usr/local/lib/python3.8/dist-packages (from google-api-core!=2.0.*,!=2.1.*,!=2.2.*,!=2.3.0,<3.0.0dev,>=1.31.5->google-api-python-client>=1.12.1->earthengine-api>=0.1.304->geemap) (3.19.6)\n",
            "Requirement already satisfied: google-crc32c<2.0dev,>=1.0 in /usr/local/lib/python3.8/dist-packages (from google-resumable-media>=2.3.2->google-cloud-storage->earthengine-api>=0.1.304->geemap) (1.5.0)\n",
            "Requirement already satisfied: parso<0.9.0,>=0.8.0 in /usr/local/lib/python3.8/dist-packages (from jedi>=0.10->ipython>=4.0.0->ipywidgets<8.0.0->geemap) (0.8.3)\n",
            "Requirement already satisfied: pyzmq>=17 in /usr/local/lib/python3.8/dist-packages (from notebook>=4.4.1->widgetsnbextension~=3.6.0->ipywidgets<8.0.0->geemap) (23.2.1)\n",
            "Requirement already satisfied: nbformat in /usr/local/lib/python3.8/dist-packages (from notebook>=4.4.1->widgetsnbextension~=3.6.0->ipywidgets<8.0.0->geemap) (5.7.3)\n",
            "Requirement already satisfied: nbconvert in /usr/local/lib/python3.8/dist-packages (from notebook>=4.4.1->widgetsnbextension~=3.6.0->ipywidgets<8.0.0->geemap) (6.5.4)\n",
            "Requirement already satisfied: Send2Trash>=1.5.0 in /usr/local/lib/python3.8/dist-packages (from notebook>=4.4.1->widgetsnbextension~=3.6.0->ipywidgets<8.0.0->geemap) (1.8.0)\n",
            "Requirement already satisfied: jupyter-core>=4.6.1 in /usr/local/lib/python3.8/dist-packages (from notebook>=4.4.1->widgetsnbextension~=3.6.0->ipywidgets<8.0.0->geemap) (5.2.0)\n",
            "Requirement already satisfied: prometheus-client in /usr/local/lib/python3.8/dist-packages (from notebook>=4.4.1->widgetsnbextension~=3.6.0->ipywidgets<8.0.0->geemap) (0.16.0)\n",
            "Requirement already satisfied: argon2-cffi in /usr/local/lib/python3.8/dist-packages (from notebook>=4.4.1->widgetsnbextension~=3.6.0->ipywidgets<8.0.0->geemap) (21.3.0)\n",
            "Requirement already satisfied: terminado>=0.8.3 in /usr/local/lib/python3.8/dist-packages (from notebook>=4.4.1->widgetsnbextension~=3.6.0->ipywidgets<8.0.0->geemap) (0.13.3)\n",
            "Requirement already satisfied: wcwidth in /usr/local/lib/python3.8/dist-packages (from prompt-toolkit<2.1.0,>=2.0.0->ipython>=4.0.0->ipywidgets<8.0.0->geemap) (0.2.6)\n",
            "Requirement already satisfied: pyasn1<0.5.0,>=0.4.6 in /usr/local/lib/python3.8/dist-packages (from pyasn1-modules>=0.2.1->google-auth>=1.4.1->earthengine-api>=0.1.304->geemap) (0.4.8)\n",
            "Requirement already satisfied: ptyprocess>=0.5 in /usr/local/lib/python3.8/dist-packages (from pexpect->ipython>=4.0.0->ipywidgets<8.0.0->geemap) (0.7.0)\n",
            "Requirement already satisfied: platformdirs>=2.5 in /usr/local/lib/python3.8/dist-packages (from jupyter-core>=4.6.1->notebook>=4.4.1->widgetsnbextension~=3.6.0->ipywidgets<8.0.0->geemap) (3.0.0)\n",
            "Requirement already satisfied: argon2-cffi-bindings in /usr/local/lib/python3.8/dist-packages (from argon2-cffi->notebook>=4.4.1->widgetsnbextension~=3.6.0->ipywidgets<8.0.0->geemap) (21.2.0)\n",
            "Requirement already satisfied: bleach in /usr/local/lib/python3.8/dist-packages (from nbconvert->notebook>=4.4.1->widgetsnbextension~=3.6.0->ipywidgets<8.0.0->geemap) (6.0.0)\n",
            "Requirement already satisfied: nbclient>=0.5.0 in /usr/local/lib/python3.8/dist-packages (from nbconvert->notebook>=4.4.1->widgetsnbextension~=3.6.0->ipywidgets<8.0.0->geemap) (0.7.2)\n",
            "Requirement already satisfied: mistune<2,>=0.8.1 in /usr/local/lib/python3.8/dist-packages (from nbconvert->notebook>=4.4.1->widgetsnbextension~=3.6.0->ipywidgets<8.0.0->geemap) (0.8.4)\n",
            "Requirement already satisfied: jupyterlab-pygments in /usr/local/lib/python3.8/dist-packages (from nbconvert->notebook>=4.4.1->widgetsnbextension~=3.6.0->ipywidgets<8.0.0->geemap) (0.2.2)\n",
            "Requirement already satisfied: lxml in /usr/local/lib/python3.8/dist-packages (from nbconvert->notebook>=4.4.1->widgetsnbextension~=3.6.0->ipywidgets<8.0.0->geemap) (4.9.2)\n",
            "Requirement already satisfied: entrypoints>=0.2.2 in /usr/local/lib/python3.8/dist-packages (from nbconvert->notebook>=4.4.1->widgetsnbextension~=3.6.0->ipywidgets<8.0.0->geemap) (0.4)\n",
            "Requirement already satisfied: tinycss2 in /usr/local/lib/python3.8/dist-packages (from nbconvert->notebook>=4.4.1->widgetsnbextension~=3.6.0->ipywidgets<8.0.0->geemap) (1.2.1)\n",
            "Requirement already satisfied: defusedxml in /usr/local/lib/python3.8/dist-packages (from nbconvert->notebook>=4.4.1->widgetsnbextension~=3.6.0->ipywidgets<8.0.0->geemap) (0.7.1)\n",
            "Requirement already satisfied: pandocfilters>=1.4.1 in /usr/local/lib/python3.8/dist-packages (from nbconvert->notebook>=4.4.1->widgetsnbextension~=3.6.0->ipywidgets<8.0.0->geemap) (1.5.0)\n",
            "Requirement already satisfied: fastjsonschema in /usr/local/lib/python3.8/dist-packages (from nbformat->notebook>=4.4.1->widgetsnbextension~=3.6.0->ipywidgets<8.0.0->geemap) (2.16.3)\n",
            "Requirement already satisfied: jsonschema>=2.6 in /usr/local/lib/python3.8/dist-packages (from nbformat->notebook>=4.4.1->widgetsnbextension~=3.6.0->ipywidgets<8.0.0->geemap) (4.3.3)\n",
            "Requirement already satisfied: importlib-resources>=1.4.0 in /usr/local/lib/python3.8/dist-packages (from jsonschema>=2.6->nbformat->notebook>=4.4.1->widgetsnbextension~=3.6.0->ipywidgets<8.0.0->geemap) (5.12.0)\n",
            "Requirement already satisfied: pyrsistent!=0.17.0,!=0.17.1,!=0.17.2,>=0.14.0 in /usr/local/lib/python3.8/dist-packages (from jsonschema>=2.6->nbformat->notebook>=4.4.1->widgetsnbextension~=3.6.0->ipywidgets<8.0.0->geemap) (0.19.3)\n",
            "Requirement already satisfied: attrs>=17.4.0 in /usr/local/lib/python3.8/dist-packages (from jsonschema>=2.6->nbformat->notebook>=4.4.1->widgetsnbextension~=3.6.0->ipywidgets<8.0.0->geemap) (22.2.0)\n",
            "Requirement already satisfied: cffi>=1.0.1 in /usr/local/lib/python3.8/dist-packages (from argon2-cffi-bindings->argon2-cffi->notebook>=4.4.1->widgetsnbextension~=3.6.0->ipywidgets<8.0.0->geemap) (1.15.1)\n",
            "Requirement already satisfied: webencodings in /usr/local/lib/python3.8/dist-packages (from bleach->nbconvert->notebook>=4.4.1->widgetsnbextension~=3.6.0->ipywidgets<8.0.0->geemap) (0.5.1)\n",
            "Requirement already satisfied: pycparser in /usr/local/lib/python3.8/dist-packages (from cffi>=1.0.1->argon2-cffi-bindings->argon2-cffi->notebook>=4.4.1->widgetsnbextension~=3.6.0->ipywidgets<8.0.0->geemap) (2.21)\n",
            "Requirement already satisfied: zipp>=3.1.0 in /usr/local/lib/python3.8/dist-packages (from importlib-resources>=1.4.0->jsonschema>=2.6->nbformat->notebook>=4.4.1->widgetsnbextension~=3.6.0->ipywidgets<8.0.0->geemap) (3.15.0)\n",
            "Building wheels for collected packages: ee-extra, sankee, pycrs, pyperclip\n",
            "  Building wheel for ee-extra (setup.py) ... \u001b[?25l\u001b[?25hdone\n",
            "  Created wheel for ee-extra: filename=ee_extra-0.0.15-py3-none-any.whl size=236772 sha256=ae60dbe5f70ed8e971fe939a749866f5cd6163e6782a4129c686c6a452558a38\n",
            "  Stored in directory: /root/.cache/pip/wheels/ad/62/c2/83b116851b529a65410d8d6f771cfbacb4636b5287d55e1c21\n",
            "  Building wheel for sankee (setup.py) ... \u001b[?25l\u001b[?25hdone\n",
            "  Created wheel for sankee: filename=sankee-0.2.1-py3-none-any.whl size=29338 sha256=9a2a34eb346aff0faff27e3b85d6d36ae411cf7c43f8a04cc275ce9afbff4b60\n",
            "  Stored in directory: /root/.cache/pip/wheels/94/c1/84/f42275344bce6ecb3b4f3fe74609f63143d5fe2150a908b7ab\n",
            "  Building wheel for pycrs (setup.py) ... \u001b[?25l\u001b[?25hdone\n",
            "  Created wheel for pycrs: filename=PyCRS-1.0.2-py3-none-any.whl size=32703 sha256=c0d0e10bdafced892d80f2f56397bbd38cfabc5ea0cec9434b54ad4ab44248d7\n",
            "  Stored in directory: /root/.cache/pip/wheels/c1/e9/f3/19ecf82bebc5cdaba5c2a83f673f7b9b09c26fbc9b57534a2e\n",
            "  Building wheel for pyperclip (setup.py) ... \u001b[?25l\u001b[?25hdone\n",
            "  Created wheel for pyperclip: filename=pyperclip-1.8.2-py3-none-any.whl size=11136 sha256=b15012f121728b026dc109ffc6b3c79d8af8e156d7b53660a56b0d89fc89b104\n",
            "  Stored in directory: /root/.cache/pip/wheels/7f/1a/65/84ff8c386bec21fca6d220ea1f5498a0367883a78dd5ba6122\n",
            "Successfully built ee-extra sankee pycrs pyperclip\n",
            "Installing collected packages: pyperclip, pycrs, logzero, colour, xyzservices, whitebox, traittypes, soupsieve, scooby, ratelim, python-box, pyshp, jedi, geojson, ffmpeg-python, geocoder, beautifulsoup4, geeadd, eerepr, ee-extra, sankee, ipytree, ipyleaflet, ipyfilechooser, ipyevents, bqplot, whiteboxgui, geemap\n",
            "  Attempting uninstall: beautifulsoup4\n",
            "    Found existing installation: beautifulsoup4 4.6.3\n",
            "    Uninstalling beautifulsoup4-4.6.3:\n",
            "      Successfully uninstalled beautifulsoup4-4.6.3\n",
            "Successfully installed beautifulsoup4-4.11.2 bqplot-0.12.36 colour-0.1.5 ee-extra-0.0.15 eerepr-0.0.4 ffmpeg-python-0.2.0 geeadd-0.5.6 geemap-0.20.0 geocoder-1.38.1 geojson-3.0.1 ipyevents-2.0.1 ipyfilechooser-0.6.0 ipyleaflet-0.17.2 ipytree-0.2.2 jedi-0.18.2 logzero-1.7.0 pycrs-1.0.2 pyperclip-1.8.2 pyshp-2.3.1 python-box-7.0.1 ratelim-0.1.6 sankee-0.2.1 scooby-0.7.1 soupsieve-2.4 traittypes-0.2.1 whitebox-2.2.0 whiteboxgui-2.2.0 xyzservices-2023.2.0\n"
          ]
        }
      ],
      "source": [
        "pip install geemap"
      ]
    },
    {
      "cell_type": "code",
      "execution_count": null,
      "metadata": {
        "id": "jSF_zNSzV0-k"
      },
      "outputs": [],
      "source": [
        "geemap =folium.Map(location=[lat,lng],zoom_start = 9)"
      ]
    },
    {
      "cell_type": "code",
      "execution_count": null,
      "metadata": {
        "id": "wwvK9dRUWm4O",
        "colab": {
          "base_uri": "https://localhost:8080/"
        },
        "outputId": "0fd8b8d4-e481-40c4-89f6-e9b0d1e5e2cf"
      },
      "outputs": [
        {
          "output_type": "execute_result",
          "data": {
            "text/plain": [
              "<folium.map.Marker at 0x7fa04206bdc0>"
            ]
          },
          "metadata": {},
          "execution_count": 25
        }
      ],
      "source": [
        "folium.Marker([lat,lng],popup= yourLocation).add_to((geemap))"
      ]
    },
    {
      "cell_type": "code",
      "execution_count": null,
      "metadata": {
        "id": "CfZYJWqwWuCX",
        "colab": {
          "base_uri": "https://localhost:8080/"
        },
        "outputId": "06f917a6-153f-4c04-80b8-28ca2c7f183b"
      },
      "outputs": [
        {
          "output_type": "stream",
          "name": "stdout",
          "text": [
            "Looking in indexes: https://pypi.org/simple, https://us-python.pkg.dev/colab-wheels/public/simple/\n",
            "Collecting html\n",
            "  Downloading html-1.16.tar.gz (7.6 kB)\n",
            "  \u001b[1;31merror\u001b[0m: \u001b[1msubprocess-exited-with-error\u001b[0m\n",
            "  \n",
            "  \u001b[31m×\u001b[0m \u001b[32mpython setup.py egg_info\u001b[0m did not run successfully.\n",
            "  \u001b[31m│\u001b[0m exit code: \u001b[1;36m1\u001b[0m\n",
            "  \u001b[31m╰─>\u001b[0m See above for output.\n",
            "  \n",
            "  \u001b[1;35mnote\u001b[0m: This error originates from a subprocess, and is likely not a problem with pip.\n",
            "  Preparing metadata (setup.py) ... \u001b[?25l\u001b[?25herror\n",
            "\u001b[1;31merror\u001b[0m: \u001b[1mmetadata-generation-failed\u001b[0m\n",
            "\n",
            "\u001b[31m×\u001b[0m Encountered error while generating package metadata.\n",
            "\u001b[31m╰─>\u001b[0m See above for output.\n",
            "\n",
            "\u001b[1;35mnote\u001b[0m: This is an issue with the package mentioned above, not pip.\n",
            "\u001b[1;36mhint\u001b[0m: See above for details.\n"
          ]
        }
      ],
      "source": [
        "pip install html"
      ]
    },
    {
      "cell_type": "code",
      "execution_count": null,
      "metadata": {
        "id": "4KfUhv_XF32q",
        "colab": {
          "base_uri": "https://localhost:8080/"
        },
        "outputId": "349145d2-9e8b-4a28-f8e3-c79c0e648c03"
      },
      "outputs": [
        {
          "output_type": "stream",
          "name": "stdout",
          "text": [
            "Looking in indexes: https://pypi.org/simple, https://us-python.pkg.dev/colab-wheels/public/simple/\n",
            "Requirement already satisfied: google in /usr/local/lib/python3.8/dist-packages (2.0.3)\n",
            "Requirement already satisfied: beautifulsoup4 in /usr/local/lib/python3.8/dist-packages (from google) (4.11.2)\n",
            "Requirement already satisfied: soupsieve>1.2 in /usr/local/lib/python3.8/dist-packages (from beautifulsoup4->google) (2.4)\n"
          ]
        }
      ],
      "source": [
        "pip install google"
      ]
    },
    {
      "cell_type": "code",
      "execution_count": null,
      "metadata": {
        "id": "_GPmxcNTGGfa"
      },
      "outputs": [],
      "source": [
        "## save map in html file"
      ]
    },
    {
      "cell_type": "code",
      "execution_count": null,
      "metadata": {
        "id": "F1axJT6UFDBB"
      },
      "outputs": [],
      "source": [
        "geemap.save(\"goole.html\")"
      ]
    },
    {
      "cell_type": "code",
      "execution_count": null,
      "metadata": {
        "id": "2g0iyOgC5WnI",
        "colab": {
          "base_uri": "https://localhost:8080/"
        },
        "outputId": "4e478833-006d-462a-fe3d-d468ac5d5a15"
      },
      "outputs": [
        {
          "output_type": "stream",
          "name": "stdout",
          "text": [
            "Looking in indexes: https://pypi.org/simple, https://us-python.pkg.dev/colab-wheels/public/simple/\n",
            "Collecting countrycode\n",
            "  Downloading countrycode-0.2.tar.gz (12 kB)\n",
            "  Preparing metadata (setup.py) ... \u001b[?25l\u001b[?25hdone\n",
            "Building wheels for collected packages: countrycode\n",
            "  Building wheel for countrycode (setup.py) ... \u001b[?25l\u001b[?25hdone\n",
            "  Created wheel for countrycode: filename=countrycode-0.2-py3-none-any.whl size=13574 sha256=a38f3163e3fc7572e947452dc0b6705314bf68f5cb05f3de618df7833a138ec1\n",
            "  Stored in directory: /root/.cache/pip/wheels/56/8e/12/3740501e4b50f3df22a00efd33842fdadc049d253db5b1808a\n",
            "Successfully built countrycode\n",
            "Installing collected packages: countrycode\n",
            "Successfully installed countrycode-0.2\n"
          ]
        }
      ],
      "source": [
        "pip install countrycode"
      ]
    },
    {
      "cell_type": "code",
      "execution_count": null,
      "metadata": {
        "id": "kOYEnmcd2VLv"
      },
      "outputs": [],
      "source": [
        "\n",
        "\n",
        "\n"
      ]
    }
  ],
  "metadata": {
    "colab": {
      "provenance": [],
      "authorship_tag": "ABX9TyNtdEwFdMLepA2phNaCHjCC",
      "include_colab_link": true
    },
    "kernelspec": {
      "display_name": "Python 3",
      "name": "python3"
    },
    "language_info": {
      "name": "python"
    }
  },
  "nbformat": 4,
  "nbformat_minor": 0
}